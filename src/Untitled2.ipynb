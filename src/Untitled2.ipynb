{
 "cells": [
  {
   "cell_type": "code",
   "execution_count": 1,
   "metadata": {},
   "outputs": [],
   "source": [
    "%load_ext autoreload\n",
    "%autoreload 2\n",
    "%matplotlib inline"
   ]
  },
  {
   "cell_type": "code",
   "execution_count": 2,
   "metadata": {},
   "outputs": [],
   "source": [
    "from matplotlib import style\n",
    "from matplotlib import pyplot as plt\n",
    "style.use(style.available[14])"
   ]
  },
  {
   "cell_type": "code",
   "execution_count": 3,
   "metadata": {},
   "outputs": [],
   "source": [
    "import torch as tr\n",
    "import numpy as np\n",
    "np.random.seed(42)\n",
    "tr.manual_seed(42)\n",
    "if tr.cuda.is_available():\n",
    "    tr.cuda.manual_seed_all(42)\n",
    "    tr.set_default_tensor_type('torch.cuda.FloatTensor')"
   ]
  },
  {
   "cell_type": "code",
   "execution_count": 4,
   "metadata": {},
   "outputs": [],
   "source": [
    "from torch import nn\n",
    "from torch.nn import functional as F\n",
    "from torch.optim import Adam, SGD, RMSprop"
   ]
  },
  {
   "cell_type": "code",
   "execution_count": 5,
   "metadata": {},
   "outputs": [],
   "source": [
    "from models.images.classifier import MNISTCritic, Net\n",
    "from dataloaders.mnist import MnistDataLoader, FashionMnistDataLoader, MixedMnistDataLoader"
   ]
  },
  {
   "cell_type": "code",
   "execution_count": null,
   "metadata": {},
   "outputs": [],
   "source": []
  },
  {
   "cell_type": "code",
   "execution_count": 7,
   "metadata": {},
   "outputs": [],
   "source": [
    "dataset = 'mnist'"
   ]
  },
  {
   "cell_type": "code",
   "execution_count": null,
   "metadata": {},
   "outputs": [],
   "source": []
  },
  {
   "cell_type": "code",
   "execution_count": 8,
   "metadata": {},
   "outputs": [],
   "source": [
    "dl_mnist = MnistDataLoader(train_batch_size=64, test_batch_size=256)\n",
    "dl_fmnist = FashionMnistDataLoader(train_batch_size=64, test_batch_size=256)\n",
    "dl_mixed = MixedMnistDataLoader(train_batch_size=64, test_batch_size=256)\n",
    "\n",
    "dl = {\n",
    "    'mnist': dl_mnist,\n",
    "    'fashion': dl_fmnist,\n",
    "    'mixed': dl_mixed,\n",
    "}[dataset]"
   ]
  },
  {
   "cell_type": "code",
   "execution_count": 9,
   "metadata": {},
   "outputs": [
    {
     "data": {
      "text/plain": [
       "Counter({0: 980,\n",
       "         1: 1135,\n",
       "         2: 1032,\n",
       "         3: 1010,\n",
       "         4: 982,\n",
       "         5: 892,\n",
       "         6: 958,\n",
       "         7: 1028,\n",
       "         8: 974,\n",
       "         9: 1009})"
      ]
     },
     "execution_count": 9,
     "metadata": {},
     "output_type": "execute_result"
    }
   ],
   "source": [
    "from collections import Counter\n",
    "Counter(dl.labels['test'].numpy())"
   ]
  },
  {
   "cell_type": "code",
   "execution_count": 12,
   "metadata": {},
   "outputs": [],
   "source": [
    "data = dl.data['train'].numpy()\n",
    "labels = dl.labels['train'].numpy()"
   ]
  },
  {
   "cell_type": "code",
   "execution_count": 27,
   "metadata": {},
   "outputs": [
    {
     "name": "stdout",
     "output_type": "stream",
     "text": [
      "(60000, 3, 28, 28)\n",
      "(60000, 3)\n",
      "[8 0 7]\n"
     ]
    },
    {
     "data": {
      "image/png": "[encoded data removed]",
      "text/plain": [
       "<Figure size 432x288 with 1 Axes>"
      ]
     },
     "metadata": {},
     "output_type": "display_data"
    }
   ],
   "source": [
    "n = data.shape[0]\n",
    "perm1 = np.random.permutation(n)\n",
    "perm2 = np.random.permutation(n)\n",
    "perm3 = np.random.permutation(n)\n",
    "\n",
    "stacked_data = np.concatenate([data[perm1], data[perm2], data[perm3]], axis=1)\n",
    "stacked_labels = np.array([labels[perm1], labels[perm2], labels[perm3]]).transpose([1, 0])\n",
    "\n",
    "print stacked_data.shape\n",
    "print stacked_labels.shape\n",
    "plt.imshow(stacked_data[0].transpose([1, 2, 0]));\n",
    "print stacked_labels[0]"
   ]
  },
  {
   "cell_type": "code",
   "execution_count": 26,
   "metadata": {},
   "outputs": [],
   "source": [
    "# net = CNN()\n",
    "net = MNISTCritic(20)\n",
    "# net = Net()"
   ]
  },
  {
   "cell_type": "code",
   "execution_count": 35,
   "metadata": {},
   "outputs": [],
   "source": [
    "x, l = dl.next_batch('train')"
   ]
  },
  {
   "cell_type": "code",
   "execution_count": 36,
   "metadata": {},
   "outputs": [
    {
     "name": "stdout",
     "output_type": "stream",
     "text": [
      "tensor(3)\n"
     ]
    },
    {
     "data": {
      "image/png": "[encoded data removed]",
      "text/plain": [
       "<Figure size 432x288 with 1 Axes>"
      ]
     },
     "metadata": {},
     "output_type": "display_data"
    }
   ],
   "source": [
    "i = 13\n",
    "\n",
    "plt.imshow(x[i, 0].cpu().numpy())\n",
    "print l[i]"
   ]
  },
  {
   "cell_type": "code",
   "execution_count": 37,
   "metadata": {},
   "outputs": [],
   "source": [
    "# opt = Adam(net.parameters(), lr=0.001)\n",
    "opt = Adam(net.parameters(), lr=0.001, betas=(0.5, 0.5))\n",
    "# opt = SGD(net.parameters(), lr=0.001, momentum=0.5)\n",
    "# opt = RMSprop(net.parameters(), lr=0.001)\n",
    "def compute_loss(img, labels):\n",
    "    logits = net.forward(img)\n",
    "    loss = F.nll_loss(logits, labels)\n",
    "    return loss"
   ]
  },
  {
   "cell_type": "code",
   "execution_count": 38,
   "metadata": {},
   "outputs": [
    {
     "data": {
      "text/plain": [
       "torch.Size([64, 20])"
      ]
     },
     "execution_count": 38,
     "metadata": {},
     "output_type": "execute_result"
    }
   ],
   "source": [
    "net.forward(dl.next_batch('train')[0]).shape"
   ]
  },
  {
   "cell_type": "code",
   "execution_count": 45,
   "metadata": {},
   "outputs": [],
   "source": [
    "def accuracy(x_batch, labels):\n",
    "    preds = net.predict(x_batch, numpy=False)\n",
    "    acc = 100.0 * tr.sum(labels == preds)/ x_batch.shape[0]\n",
    "    return acc\n",
    "\n",
    "def train_critic(n_iters):\n",
    "    for i in range(n_iters):\n",
    "        imgs, labels = dl.next_batch('train')\n",
    "        \n",
    "        opt.zero_grad()\n",
    "        loss = compute_loss(imgs, labels)\n",
    "        loss.backward()\n",
    "        opt.step()\n",
    "        \n",
    "        with tr.no_grad():\n",
    "            net.eval()\n",
    "            acc = accuracy(imgs, labels)\n",
    "            net.train()\n",
    "        \n",
    "        train_losses.append(loss.item())\n",
    "        train_acc.append(acc)\n",
    "        \n",
    "        \n",
    "        if i % 100 == 0:\n",
    "            net.eval()\n",
    "            with tr.no_grad():\n",
    "                test_imgs, test_labels = dl.next_batch('test')\n",
    "                loss = compute_loss(test_imgs, test_labels)\n",
    "                tacc = accuracy(test_imgs, test_labels)\n",
    "                \n",
    "                test_losses.append(loss.item())\n",
    "                test_acc.append(tacc)\n",
    "                \n",
    "                if i % 500 == 0:\n",
    "                    print 'Step %d: Train Accuracy %.3f Test Accuracy %.3f' % (i, acc, tacc)\n",
    "            net.train()"
   ]
  },
  {
   "cell_type": "code",
   "execution_count": 46,
   "metadata": {},
   "outputs": [
    {
     "name": "stdout",
     "output_type": "stream",
     "text": [
      "Step 0: Train Accuracy 29.000 Test Accuracy 21.000\n",
      "Step 500: Train Accuracy 75.000 Test Accuracy 69.000\n",
      "Step 1000: Train Accuracy 71.000 Test Accuracy 71.000\n",
      "Step 1500: Train Accuracy 81.000 Test Accuracy 76.000\n",
      "Step 2000: Train Accuracy 85.000 Test Accuracy 87.000\n",
      "Step 2500: Train Accuracy 87.000 Test Accuracy 82.000\n",
      "Step 3000: Train Accuracy 93.000 Test Accuracy 86.000\n",
      "Step 3500: Train Accuracy 95.000 Test Accuracy 91.000\n",
      "Step 4000: Train Accuracy 85.000 Test Accuracy 88.000\n",
      "Step 4500: Train Accuracy 92.000 Test Accuracy 91.000\n",
      "Step 5000: Train Accuracy 93.000 Test Accuracy 90.000\n",
      "Step 5500: Train Accuracy 90.000 Test Accuracy 88.000\n",
      "Step 6000: Train Accuracy 87.000 Test Accuracy 90.000\n",
      "Step 6500: Train Accuracy 95.000 Test Accuracy 95.000\n",
      "Step 7000: Train Accuracy 96.000 Test Accuracy 92.000\n",
      "Step 7500: Train Accuracy 98.000 Test Accuracy 94.000\n",
      "Step 8000: Train Accuracy 98.000 Test Accuracy 95.000\n",
      "Step 8500: Train Accuracy 95.000 Test Accuracy 91.000\n",
      "Step 9000: Train Accuracy 96.000 Test Accuracy 94.000\n",
      "Step 9500: Train Accuracy 98.000 Test Accuracy 94.000\n",
      "Step 10000: Train Accuracy 96.000 Test Accuracy 94.000\n",
      "Step 10500: Train Accuracy 98.000 Test Accuracy 90.000\n",
      "Step 11000: Train Accuracy 98.000 Test Accuracy 93.000\n",
      "Step 11500: Train Accuracy 98.000 Test Accuracy 92.000\n",
      "Step 12000: Train Accuracy 95.000 Test Accuracy 94.000\n",
      "Step 12500: Train Accuracy 96.000 Test Accuracy 92.000\n",
      "Step 13000: Train Accuracy 96.000 Test Accuracy 92.000\n",
      "Step 13500: Train Accuracy 96.000 Test Accuracy 93.000\n",
      "Step 14000: Train Accuracy 98.000 Test Accuracy 95.000\n",
      "Step 14500: Train Accuracy 100.000 Test Accuracy 91.000\n",
      "Step 15000: Train Accuracy 92.000 Test Accuracy 93.000\n",
      "Step 15500: Train Accuracy 100.000 Test Accuracy 92.000\n",
      "Step 16000: Train Accuracy 98.000 Test Accuracy 96.000\n",
      "Step 16500: Train Accuracy 100.000 Test Accuracy 95.000\n",
      "Step 17000: Train Accuracy 100.000 Test Accuracy 93.000\n",
      "Step 17500: Train Accuracy 100.000 Test Accuracy 94.000\n",
      "Step 18000: Train Accuracy 96.000 Test Accuracy 92.000\n",
      "Step 18500: Train Accuracy 100.000 Test Accuracy 92.000\n",
      "Step 19000: Train Accuracy 96.000 Test Accuracy 92.000\n",
      "Step 19500: Train Accuracy 100.000 Test Accuracy 94.000\n",
      "Step 20000: Train Accuracy 96.000 Test Accuracy 91.000\n",
      "Step 20500: Train Accuracy 98.000 Test Accuracy 92.000\n",
      "Step 21000: Train Accuracy 100.000 Test Accuracy 95.000\n",
      "Step 21500: Train Accuracy 98.000 Test Accuracy 96.000\n",
      "Step 22000: Train Accuracy 100.000 Test Accuracy 94.000\n",
      "Step 22500: Train Accuracy 96.000 Test Accuracy 92.000\n",
      "Step 23000: Train Accuracy 100.000 Test Accuracy 93.000\n",
      "Step 23500: Train Accuracy 100.000 Test Accuracy 96.000\n",
      "Step 24000: Train Accuracy 95.000 Test Accuracy 95.000\n",
      "Step 24500: Train Accuracy 100.000 Test Accuracy 94.000\n",
      "Step 25000: Train Accuracy 100.000 Test Accuracy 92.000\n",
      "Step 25500: Train Accuracy 100.000 Test Accuracy 96.000\n",
      "Step 26000: Train Accuracy 100.000 Test Accuracy 94.000\n",
      "Step 26500: Train Accuracy 98.000 Test Accuracy 98.000\n",
      "Step 27000: Train Accuracy 98.000 Test Accuracy 96.000\n",
      "Step 27500: Train Accuracy 100.000 Test Accuracy 96.000\n",
      "Step 28000: Train Accuracy 100.000 Test Accuracy 94.000\n",
      "Step 28500: Train Accuracy 100.000 Test Accuracy 94.000\n",
      "Step 29000: Train Accuracy 100.000 Test Accuracy 94.000\n",
      "Step 29500: Train Accuracy 100.000 Test Accuracy 94.000\n",
      "Step 30000: Train Accuracy 100.000 Test Accuracy 94.000\n",
      "Step 30500: Train Accuracy 95.000 Test Accuracy 94.000\n",
      "Step 31000: Train Accuracy 98.000 Test Accuracy 94.000\n",
      "Step 31500: Train Accuracy 100.000 Test Accuracy 94.000\n",
      "Step 32000: Train Accuracy 100.000 Test Accuracy 92.000\n",
      "Step 32500: Train Accuracy 100.000 Test Accuracy 94.000\n",
      "Step 33000: Train Accuracy 100.000 Test Accuracy 96.000\n",
      "Step 33500: Train Accuracy 98.000 Test Accuracy 94.000\n",
      "Step 34000: Train Accuracy 100.000 Test Accuracy 93.000\n",
      "Step 34500: Train Accuracy 100.000 Test Accuracy 90.000\n",
      "Step 35000: Train Accuracy 96.000 Test Accuracy 92.000\n",
      "Step 35500: Train Accuracy 100.000 Test Accuracy 93.000\n",
      "Step 36000: Train Accuracy 100.000 Test Accuracy 94.000\n",
      "Step 36500: Train Accuracy 98.000 Test Accuracy 94.000\n",
      "Step 37000: Train Accuracy 100.000 Test Accuracy 94.000\n",
      "Step 37500: Train Accuracy 100.000 Test Accuracy 94.000\n",
      "Step 38000: Train Accuracy 98.000 Test Accuracy 96.000\n",
      "Step 38500: Train Accuracy 100.000 Test Accuracy 96.000\n",
      "Step 39000: Train Accuracy 100.000 Test Accuracy 95.000\n",
      "Step 39500: Train Accuracy 100.000 Test Accuracy 92.000\n",
      "Step 40000: Train Accuracy 100.000 Test Accuracy 96.000\n",
      "Step 40500: Train Accuracy 100.000 Test Accuracy 93.000\n",
      "Step 41000: Train Accuracy 100.000 Test Accuracy 93.000\n",
      "Step 41500: Train Accuracy 100.000 Test Accuracy 92.000\n",
      "Step 42000: Train Accuracy 98.000 Test Accuracy 92.000\n",
      "Step 42500: Train Accuracy 98.000 Test Accuracy 94.000\n",
      "Step 43000: Train Accuracy 98.000 Test Accuracy 94.000\n"
     ]
    },
    {
     "ename": "KeyboardInterrupt",
     "evalue": "",
     "output_type": "error",
     "traceback": [
      "\u001b[0;31m---------------------------------------------------------------------------\u001b[0m",
      "\u001b[0;31mKeyboardInterrupt\u001b[0m                         Traceback (most recent call last)",
      "\u001b[0;32m<ipython-input-46-e77397272189>\u001b[0m in \u001b[0;36m<module>\u001b[0;34m()\u001b[0m\n\u001b[1;32m      5\u001b[0m \u001b[0mtest_acc\u001b[0m \u001b[0;34m=\u001b[0m \u001b[0;34m[\u001b[0m\u001b[0;34m]\u001b[0m\u001b[0;34m\u001b[0m\u001b[0m\n\u001b[1;32m      6\u001b[0m \u001b[0;34m\u001b[0m\u001b[0m\n\u001b[0;32m----> 7\u001b[0;31m \u001b[0mtrain_critic\u001b[0m\u001b[0;34m(\u001b[0m\u001b[0mdl\u001b[0m\u001b[0;34m.\u001b[0m\u001b[0mn_batches\u001b[0m\u001b[0;34m[\u001b[0m\u001b[0;34m'train'\u001b[0m\u001b[0;34m]\u001b[0m \u001b[0;34m*\u001b[0m \u001b[0;36m25\u001b[0m\u001b[0;34m)\u001b[0m\u001b[0;34m\u001b[0m\u001b[0m\n\u001b[0m",
      "\u001b[0;32m<ipython-input-45-1819f10b95f6>\u001b[0m in \u001b[0;36mtrain_critic\u001b[0;34m(n_iters)\u001b[0m\n\u001b[1;32m     10\u001b[0m         \u001b[0mopt\u001b[0m\u001b[0;34m.\u001b[0m\u001b[0mzero_grad\u001b[0m\u001b[0;34m(\u001b[0m\u001b[0;34m)\u001b[0m\u001b[0;34m\u001b[0m\u001b[0m\n\u001b[1;32m     11\u001b[0m         \u001b[0mloss\u001b[0m \u001b[0;34m=\u001b[0m \u001b[0mcompute_loss\u001b[0m\u001b[0;34m(\u001b[0m\u001b[0mimgs\u001b[0m\u001b[0;34m,\u001b[0m \u001b[0mlabels\u001b[0m\u001b[0;34m)\u001b[0m\u001b[0;34m\u001b[0m\u001b[0m\n\u001b[0;32m---> 12\u001b[0;31m         \u001b[0mloss\u001b[0m\u001b[0;34m.\u001b[0m\u001b[0mbackward\u001b[0m\u001b[0;34m(\u001b[0m\u001b[0;34m)\u001b[0m\u001b[0;34m\u001b[0m\u001b[0m\n\u001b[0m\u001b[1;32m     13\u001b[0m         \u001b[0mopt\u001b[0m\u001b[0;34m.\u001b[0m\u001b[0mstep\u001b[0m\u001b[0;34m(\u001b[0m\u001b[0;34m)\u001b[0m\u001b[0;34m\u001b[0m\u001b[0m\n\u001b[1;32m     14\u001b[0m \u001b[0;34m\u001b[0m\u001b[0m\n",
      "\u001b[0;32m/home/maharshi/.virtualenvs/torch/local/lib/python2.7/site-packages/torch/tensor.pyc\u001b[0m in \u001b[0;36mbackward\u001b[0;34m(self, gradient, retain_graph, create_graph)\u001b[0m\n\u001b[1;32m     91\u001b[0m                 \u001b[0mproducts\u001b[0m\u001b[0;34m.\u001b[0m \u001b[0mDefaults\u001b[0m \u001b[0mto\u001b[0m \u001b[0;34m`\u001b[0m\u001b[0;34m`\u001b[0m\u001b[0mFalse\u001b[0m\u001b[0;34m`\u001b[0m\u001b[0;34m`\u001b[0m\u001b[0;34m.\u001b[0m\u001b[0;34m\u001b[0m\u001b[0m\n\u001b[1;32m     92\u001b[0m         \"\"\"\n\u001b[0;32m---> 93\u001b[0;31m         \u001b[0mtorch\u001b[0m\u001b[0;34m.\u001b[0m\u001b[0mautograd\u001b[0m\u001b[0;34m.\u001b[0m\u001b[0mbackward\u001b[0m\u001b[0;34m(\u001b[0m\u001b[0mself\u001b[0m\u001b[0;34m,\u001b[0m \u001b[0mgradient\u001b[0m\u001b[0;34m,\u001b[0m \u001b[0mretain_graph\u001b[0m\u001b[0;34m,\u001b[0m \u001b[0mcreate_graph\u001b[0m\u001b[0;34m)\u001b[0m\u001b[0;34m\u001b[0m\u001b[0m\n\u001b[0m\u001b[1;32m     94\u001b[0m \u001b[0;34m\u001b[0m\u001b[0m\n\u001b[1;32m     95\u001b[0m     \u001b[0;32mdef\u001b[0m \u001b[0mregister_hook\u001b[0m\u001b[0;34m(\u001b[0m\u001b[0mself\u001b[0m\u001b[0;34m,\u001b[0m \u001b[0mhook\u001b[0m\u001b[0;34m)\u001b[0m\u001b[0;34m:\u001b[0m\u001b[0;34m\u001b[0m\u001b[0m\n",
      "\u001b[0;32m/home/maharshi/.virtualenvs/torch/local/lib/python2.7/site-packages/torch/autograd/__init__.pyc\u001b[0m in \u001b[0;36mbackward\u001b[0;34m(tensors, grad_tensors, retain_graph, create_graph, grad_variables)\u001b[0m\n\u001b[1;32m     88\u001b[0m     Variable._execution_engine.run_backward(\n\u001b[1;32m     89\u001b[0m         \u001b[0mtensors\u001b[0m\u001b[0;34m,\u001b[0m \u001b[0mgrad_tensors\u001b[0m\u001b[0;34m,\u001b[0m \u001b[0mretain_graph\u001b[0m\u001b[0;34m,\u001b[0m \u001b[0mcreate_graph\u001b[0m\u001b[0;34m,\u001b[0m\u001b[0;34m\u001b[0m\u001b[0m\n\u001b[0;32m---> 90\u001b[0;31m         allow_unreachable=True)  # allow_unreachable flag\n\u001b[0m\u001b[1;32m     91\u001b[0m \u001b[0;34m\u001b[0m\u001b[0m\n\u001b[1;32m     92\u001b[0m \u001b[0;34m\u001b[0m\u001b[0m\n",
      "\u001b[0;31mKeyboardInterrupt\u001b[0m: "
     ]
    }
   ],
   "source": [
    "train_losses = []\n",
    "test_losses = []\n",
    "\n",
    "train_acc = []\n",
    "test_acc = []\n",
    "\n",
    "train_critic(dl.n_batches['train'] * 25)"
   ]
  },
  {
   "cell_type": "code",
   "execution_count": null,
   "metadata": {},
   "outputs": [],
   "source": []
  },
  {
   "cell_type": "code",
   "execution_count": 47,
   "metadata": {},
   "outputs": [],
   "source": [
    "log_probs = net.forward(dl.next_batch('test')[0])\n",
    "probs = tr.exp(log_probs)\n",
    "probs = probs.detach().cpu().numpy()\n",
    "# freq = Counter(preds)"
   ]
  },
  {
   "cell_type": "code",
   "execution_count": 48,
   "metadata": {},
   "outputs": [
    {
     "data": {
      "text/plain": [
       "<matplotlib.image.AxesImage at 0x7f2296631690>"
      ]
     },
     "execution_count": 48,
     "metadata": {},
     "output_type": "execute_result"
    },
    {
     "data": {
      "image/png": "[encoded data removed]",
      "text/plain": [
       "<Figure size 432x288 with 1 Axes>"
      ]
     },
     "metadata": {},
     "output_type": "display_data"
    }
   ],
   "source": [
    "plt.imshow(np.corrcoef(probs.T), cmap='viridis')"
   ]
  },
  {
   "cell_type": "code",
   "execution_count": 49,
   "metadata": {},
   "outputs": [],
   "source": [
    "tr.save(net.state_dict(), 'mnist_mix_clf_best.pt')\n",
    "# tr.save(net.state_dict(), 'mnist_clf.pt')\n",
    "# net2 = Net()\n",
    "# net2.load_state_dict(tr.load('model.pth'))"
   ]
  },
  {
   "cell_type": "code",
   "execution_count": 54,
   "metadata": {},
   "outputs": [
    {
     "data": {
      "text/plain": [
       "tensor(98)"
      ]
     },
     "execution_count": 54,
     "metadata": {},
     "output_type": "execute_result"
    }
   ],
   "source": [
    "# net_ = net\n",
    "# net = net2\n",
    "net.eval()\n",
    "accuracy(*dl.random_batch('train', 1024))"
   ]
  },
  {
   "cell_type": "code",
   "execution_count": 19,
   "metadata": {},
   "outputs": [
    {
     "ename": "TypeError",
     "evalue": "list indices must be integers, not tuple",
     "output_type": "error",
     "traceback": [
      "\u001b[0;31m---------------------------------------------------------------------------\u001b[0m",
      "\u001b[0;31mTypeError\u001b[0m                                 Traceback (most recent call last)",
      "\u001b[0;32m<ipython-input-19-a2330c44fac6>\u001b[0m in \u001b[0;36m<module>\u001b[0;34m()\u001b[0m\n\u001b[0;32m----> 1\u001b[0;31m \u001b[0mplt\u001b[0m\u001b[0;34m.\u001b[0m\u001b[0mplot\u001b[0m\u001b[0;34m(\u001b[0m\u001b[0mtrain_losses\u001b[0m\u001b[0;34m[\u001b[0m\u001b[0;34m:\u001b[0m\u001b[0;34m,\u001b[0m \u001b[0;36m0\u001b[0m\u001b[0;34m]\u001b[0m\u001b[0;34m,\u001b[0m \u001b[0mtrain_losses\u001b[0m\u001b[0;34m[\u001b[0m\u001b[0;34m:\u001b[0m\u001b[0;34m,\u001b[0m \u001b[0;36m1\u001b[0m\u001b[0;34m]\u001b[0m\u001b[0;34m)\u001b[0m\u001b[0;34m\u001b[0m\u001b[0m\n\u001b[0m\u001b[1;32m      2\u001b[0m \u001b[0mplt\u001b[0m\u001b[0;34m.\u001b[0m\u001b[0mplot\u001b[0m\u001b[0;34m(\u001b[0m\u001b[0mtest_losses\u001b[0m\u001b[0;34m[\u001b[0m\u001b[0;34m:\u001b[0m\u001b[0;34m,\u001b[0m \u001b[0;36m0\u001b[0m\u001b[0;34m]\u001b[0m\u001b[0;34m,\u001b[0m \u001b[0mtest_losses\u001b[0m\u001b[0;34m[\u001b[0m\u001b[0;34m:\u001b[0m\u001b[0;34m,\u001b[0m \u001b[0;36m1\u001b[0m\u001b[0;34m]\u001b[0m\u001b[0;34m)\u001b[0m\u001b[0;34m\u001b[0m\u001b[0m\n",
      "\u001b[0;31mTypeError\u001b[0m: list indices must be integers, not tuple"
     ]
    }
   ],
   "source": [
    "plt.plot(train_losses[:, 0], train_losses[:, 1])\n",
    "plt.plot(test_losses[:, 0], test_losses[:, 1])"
   ]
  },
  {
   "cell_type": "code",
   "execution_count": 62,
   "metadata": {},
   "outputs": [
    {
     "data": {
      "text/plain": [
       "[<matplotlib.lines.Line2D at 0x7f229652d150>]"
      ]
     },
     "execution_count": 62,
     "metadata": {},
     "output_type": "execute_result"
    },
    {
     "data": {
      "image/png": "[encoded data removed]",
      "text/plain": [
       "<Figure size 432x288 with 1 Axes>"
      ]
     },
     "metadata": {},
     "output_type": "display_data"
    }
   ],
   "source": [
    "plt.plot(train_acc)\n",
    "plt.plot(np.arange(0, len(train_acc), 100), test_acc)"
   ]
  },
  {
   "cell_type": "code",
   "execution_count": 29,
   "metadata": {},
   "outputs": [],
   "source": [
    "Z = np.random.normal(0, 1, (1000, 100))"
   ]
  },
  {
   "cell_type": "code",
   "execution_count": 35,
   "metadata": {},
   "outputs": [
    {
     "data": {
      "text/plain": [
       "<matplotlib.collections.PathCollection at 0x7f625005a750>"
      ]
     },
     "execution_count": 35,
     "metadata": {},
     "output_type": "execute_result"
    },
    {
     "data": {
      "image/png": "[encoded data removed]",
      "text/plain": [
       "<Figure size 432x288 with 1 Axes>"
      ]
     },
     "metadata": {},
     "output_type": "display_data"
    }
   ],
   "source": [
    "plt.scatter(Z[:, 4], Z[:, 23], s=2"
   ]
  },
  {
   "cell_type": "code",
   "execution_count": 68,
   "metadata": {},
   "outputs": [],
   "source": [
    "Z = np.random.normal(0, 2, (1000, 12))\n",
    "C =np.cov(Z.T)"
   ]
  },
  {
   "cell_type": "code",
   "execution_count": 69,
   "metadata": {},
   "outputs": [],
   "source": [
    "from sklearn.mixture import GaussianMixture"
   ]
  },
  {
   "cell_type": "code",
   "execution_count": 70,
   "metadata": {},
   "outputs": [],
   "source": [
    "gmm = GaussianMixture(2)"
   ]
  },
  {
   "cell_type": "code",
   "execution_count": 71,
   "metadata": {},
   "outputs": [
    {
     "data": {
      "text/plain": [
       "GaussianMixture(covariance_type='full', init_params='kmeans', max_iter=100,\n",
       "        means_init=None, n_components=2, n_init=1, precisions_init=None,\n",
       "        random_state=None, reg_covar=1e-06, tol=0.001, verbose=0,\n",
       "        verbose_interval=10, warm_start=False, weights_init=None)"
      ]
     },
     "execution_count": 71,
     "metadata": {},
     "output_type": "execute_result"
    }
   ],
   "source": [
    "gmm.fit(Z)"
   ]
  },
  {
   "cell_type": "code",
   "execution_count": 72,
   "metadata": {},
   "outputs": [
    {
     "data": {
      "image/png": "[encoded data removed]",
      "text/plain": [
       "<Figure size 432x288 with 1 Axes>"
      ]
     },
     "metadata": {},
     "output_type": "display_data"
    }
   ],
   "source": [
    "from utils import  viz_utils\n",
    "plt.imshow(C);"
   ]
  },
  {
   "cell_type": "code",
   "execution_count": 73,
   "metadata": {},
   "outputs": [
    {
     "data": {
      "image/png": "[encoded data removed]",
      "text/plain": [
       "<Figure size 432x288 with 1 Axes>"
      ]
     },
     "metadata": {},
     "output_type": "display_data"
    }
   ],
   "source": [
    "ax = plt.gca()\n",
    "ax.set_xlim(-40, 40)\n",
    "ax.set_ylim(-40, 40)\n",
    "\n",
    "viz_utils.scatter_2d(ax, Z[:, 3:5])\n",
    "\n",
    "viz_utils.plot_ellipse(ax, gmm.means_[0][:2], gmm.covariances_[0][:2, :2]);\n",
    "viz_utils.plot_ellipse(ax, gmm.means_[1][:2], gmm.covariances_[1][:2, :2], color='blue');"
   ]
  },
  {
   "cell_type": "code",
   "execution_count": null,
   "metadata": {},
   "outputs": [],
   "source": []
  }
 ],
 "metadata": {
  "kernelspec": {
   "display_name": "Python 2",
   "language": "python",
   "name": "python2"
  },
  "language_info": {
   "codemirror_mode": {
    "name": "ipython",
    "version": 2
   },
   "file_extension": ".py",
   "mimetype": "text/x-python",
   "name": "python",
   "nbconvert_exporter": "python",
   "pygments_lexer": "ipython2",
   "version": "2.7.12"
  }
 },
 "nbformat": 4,
 "nbformat_minor": 2
}
