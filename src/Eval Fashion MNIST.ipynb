{
 "cells": [
  {
   "cell_type": "code",
   "execution_count": 2,
   "metadata": {},
   "outputs": [
    {
     "name": "stdout",
     "output_type": "stream",
     "text": [
      "The autoreload extension is already loaded. To reload it, use:\n",
      "  %reload_ext autoreload\n"
     ]
    }
   ],
   "source": [
    "%load_ext autoreload\n",
    "%autoreload"
   ]
  },
  {
   "cell_type": "code",
   "execution_count": null,
   "metadata": {},
   "outputs": [
    {
     "name": "stderr",
     "output_type": "stream",
     "text": [
      "[exp20_mnist_fashion: run_gnode_fashion.py:  68] WARNING: <module>(): Deleting Logs...\n",
      "[exp20_mnist_fashion: run_gnode_fashion.py:  73] WARNING: <module>(): Deleting all results in ../experiments/exp20_mnist_fashion/results...\n"
     ]
    },
    {
     "name": "stdout",
     "output_type": "stream",
     "text": [
      "mode: GPU\n",
      "{\n",
      "  \"resume\": false, \n",
      "  \"exp_name\": \"exp20_mnist_fashion\", \n",
      "  \"hyperparams\": \"hyperparams/fashion_mnist.py\", \n",
      "  \"weights\": \"iter\", \n",
      "  \"tensorboard\": false, \n",
      "  \"gpu\": 1, \n",
      "  \"delete\": [\n",
      "    \"all\"\n",
      "  ]\n",
      "}\n",
      "loading HP from file\n",
      "importing hyperparams hyperparams.fashion_mnist\n",
      "\n",
      "\n"
     ]
    },
    {
     "name": "stderr",
     "output_type": "stream",
     "text": [
      "[exp20_mnist_fashion: utils.py:  45] INFO: create_child_node(): \u001b[1m\u001b[32mChild Node node0 created from None\u001b[0m\n"
     ]
    },
    {
     "name": "stdout",
     "output_type": "stream",
     "text": [
      "/data/project_skeleton/gan-tree/src/trainers\n"
     ]
    },
    {
     "name": "stderr",
     "output_type": "stream",
     "text": [
      "5001it [05:48, 14.37it/s]                          \n",
      "5001it [06:03, 13.75it/s]                          \n",
      "5001it [05:56, 14.02it/s]                          \n",
      "5001it [05:56, 14.04it/s]                          \n",
      "5001it [06:02, 13.78it/s]                          \n",
      "5001it [06:01, 13.84it/s]                          \n",
      "5001it [06:04, 13.74it/s]                          \n",
      "5001it [06:02, 13.81it/s]                          \n",
      "5001it [06:04, 13.70it/s]                          \n",
      "5001it [06:04, 13.73it/s]                          \n",
      "5001it [06:05, 13.69it/s]                          \n",
      "5001it [06:03, 13.75it/s]                          \n",
      "5001it [06:06, 13.63it/s]                          \n",
      "5001it [06:22, 13.07it/s]                          \n",
      "5001it [06:18, 10.01it/s]                          \n",
      "  4%|▍         | 216/5000 [00:15<05:29, 14.50it/s]"
     ]
    }
   ],
   "source": [
    "%run run_gnode_fashion.py"
   ]
  },
  {
   "cell_type": "code",
   "execution_count": null,
   "metadata": {},
   "outputs": [],
   "source": []
  },
  {
   "cell_type": "code",
   "execution_count": null,
   "metadata": {},
   "outputs": [],
   "source": []
  }
 ],
 "metadata": {
  "kernelspec": {
   "display_name": "Python 3",
   "language": "python",
   "name": "python3"
  },
  "language_info": {
   "codemirror_mode": {
    "name": "ipython",
    "version": 3
   },
   "file_extension": ".py",
   "mimetype": "text/x-python",
   "name": "python",
   "nbconvert_exporter": "python",
   "pygments_lexer": "ipython3",
   "version": "3.5.6"
  }
 },
 "nbformat": 4,
 "nbformat_minor": 2
}
