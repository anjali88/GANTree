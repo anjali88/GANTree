{
 "cells": [
  {
   "cell_type": "code",
   "execution_count": 1,
   "metadata": {},
   "outputs": [],
   "source": [
    "%load_ext autoreload\n",
    "%autoreload 2"
   ]
  },
  {
   "cell_type": "code",
   "execution_count": 2,
   "metadata": {},
   "outputs": [],
   "source": [
    "import numpy\n",
    "import torch as tr\n",
    "from torch import nn\n",
    "from torch.nn.modules import loss as nn_loss\n",
    "from torch import optim\n",
    "from torch.nn import functional as F\n",
    "from torch.nn import init"
   ]
  },
  {
   "cell_type": "code",
   "execution_count": 3,
   "metadata": {},
   "outputs": [],
   "source": [
    "from dataloaders.factory import DataLoaderFactory"
   ]
  },
  {
   "cell_type": "code",
   "execution_count": 4,
   "metadata": {},
   "outputs": [],
   "source": [
    "from hyperparams import base\n",
    "from exp_context import ExperimentContext"
   ]
  },
  {
   "cell_type": "markdown",
   "metadata": {},
   "source": [
    "### **Hyper parameters**"
   ]
  },
  {
   "cell_type": "code",
   "execution_count": 5,
   "metadata": {},
   "outputs": [],
   "source": [
    "class Hyperparams(base.Hyperparams):\n",
    "    dtype = tr.float32\n",
    "\n",
    "    batch_size = 64\n",
    "    logit_batch_size = 32\n",
    "\n",
    "    input_size = 2\n",
    "\n",
    "    z_size = 2\n",
    "\n",
    "    lr_autoencoder = 0.0001\n",
    "    lr_decoder = 0.0001\n",
    "    lr_disc = 0.0001\n",
    "\n",
    "    z_dist_type = 'uniform'  # ['uniform', 'normal', 'sphere']\n",
    "\n",
    "    z_bounds = 4.0\n",
    "\n",
    "    show_visual_while_training = True\n",
    "\n",
    "    train_generator_adv = True\n",
    "    train_autoencoder = True\n",
    "\n",
    "    train_batch_logits = True\n",
    "    train_sample_logits = True\n",
    "\n",
    "    dataloader = 'four_gaussian_sym'\n",
    "\n",
    "    model = 'bcgan'\n",
    "    exp_name = 'exp1'"
   ]
  },
  {
   "cell_type": "markdown",
   "metadata": {},
   "source": [
    "### __Experiment Context__"
   ]
  },
  {
   "cell_type": "code",
   "execution_count": 6,
   "metadata": {},
   "outputs": [],
   "source": [
    "ExperimentContext.set_context(Hyperparams)\n",
    "H = ExperimentContext.Hyperparams\n",
    "\n",
    "from models.toy.nets import ToyGAN\n",
    "from models.toy.gantree import GNode\n",
    "from trainers.gan_trainer import GanTrainer"
   ]
  },
  {
   "cell_type": "markdown",
   "metadata": {},
   "source": [
    "### __Model, DataLoader and Trainer Creation__"
   ]
  },
  {
   "cell_type": "code",
   "execution_count": 7,
   "metadata": {},
   "outputs": [],
   "source": [
    "gan = ToyGAN('gan')\n",
    "dl = DataLoaderFactory.get_dataloader('four_gaussian_sym', H.input_size, H.z_size, H.batch_size, H.batch_size)\n",
    "trainer = GanTrainer(data_loader=dl, model=gan, n_iterations=1000)"
   ]
  },
  {
   "cell_type": "markdown",
   "metadata": {},
   "source": [
    "### __Training Algorithm__"
   ]
  },
  {
   "cell_type": "code",
   "execution_count": 8,
   "metadata": {},
   "outputs": [
    {
     "name": "stdout",
     "output_type": "stream",
     "text": [
      "Step 100\n",
      "Gen  Accuracy: 14.0625\n",
      "Disc Accuracy: 76.5625\n",
      "Step 200\n",
      "Gen  Accuracy: 43.75\n",
      "Disc Accuracy: 35.9375\n",
      "Step 300\n",
      "Gen  Accuracy: 6.25\n",
      "Disc Accuracy: 75.0\n",
      "Step 400\n",
      "Gen  Accuracy: 20.3125\n",
      "Disc Accuracy: 42.1875\n",
      "Step 500\n",
      "Gen  Accuracy: 0.0\n",
      "Disc Accuracy: 50.0\n",
      "Step 600\n",
      "Gen  Accuracy: 0.0\n",
      "Disc Accuracy: 53.90625\n",
      "Step 700\n",
      "Gen  Accuracy: 6.25\n",
      "Disc Accuracy: 46.875\n",
      "Step 800\n",
      "Gen  Accuracy: 0.0\n",
      "Disc Accuracy: 50.0\n",
      "Step 900\n",
      "Gen  Accuracy: 32.8125\n",
      "Disc Accuracy: 50.78125\n",
      "Step 1000\n",
      "Gen  Accuracy: 0.0\n",
      "Disc Accuracy: 50.0\n"
     ]
    }
   ],
   "source": [
    "trainer.train()"
   ]
  },
  {
   "cell_type": "code",
   "execution_count": null,
   "metadata": {},
   "outputs": [],
   "source": []
  },
  {
   "cell_type": "code",
   "execution_count": 16,
   "metadata": {},
   "outputs": [
    {
     "ename": "TypeError",
     "evalue": "classify() takes exactly 2 arguments (1 given)",
     "traceback": [
      "\u001b[0;31m---------------------------------------------------------------------------\u001b[0m",
      "\u001b[0;31mTypeError\u001b[0m                                 Traceback (most recent call last)",
      "\u001b[0;32m<ipython-input-16-77bec03d3fc5>\u001b[0m in \u001b[0;36m<module>\u001b[0;34m()\u001b[0m\n\u001b[0;32m----> 1\u001b[0;31m \u001b[0mgan\u001b[0m\u001b[0;34m.\u001b[0m\u001b[0mclassify\u001b[0m\u001b[0;34m(\u001b[0m\u001b[0;34m)\u001b[0m\u001b[0;34m\u001b[0m\u001b[0;34m\u001b[0m\u001b[0m\n\u001b[0m",
      "\u001b[0;31mTypeError\u001b[0m: classify() takes exactly 2 arguments (1 given)"
     ],
     "output_type": "error"
    }
   ],
   "source": [
    "gan.classify()"
   ]
  },
  {
   "cell_type": "code",
   "execution_count": 33,
   "metadata": {},
   "outputs": [],
   "source": [
    "tr.save(gan.state_dict(), 'gan.pt')"
   ]
  },
  {
   "cell_type": "code",
   "execution_count": 56,
   "metadata": {},
   "outputs": [],
   "source": [
    "means = tr.Tensor([0.0, 0.0])\n",
    "cov = tr.Tensor([[1.0, 0.7],\n",
    "                 [0.7, 1.0]])\n"
   ]
  },
  {
   "cell_type": "code",
   "execution_count": 57,
   "metadata": {},
   "outputs": [],
   "source": [
    "X = f.sample(tr.Size([1000])).numpy()"
   ]
  },
  {
   "cell_type": "code",
   "execution_count": 58,
   "metadata": {},
   "outputs": [
    {
     "data": {
      "text/plain": [
       "<matplotlib.collections.PathCollection at 0x7f7a2c208190>"
      ]
     },
     "execution_count": 58,
     "metadata": {},
     "output_type": "execute_result"
    },
    {
     "data": {
      "image/png": "[encoded data removed]",
      "text/plain": [
       "<Figure size 432x288 with 1 Axes>"
      ]
     },
     "metadata": {},
     "output_type": "display_data"
    }
   ],
   "source": [
    "%matplotlib inline\n",
    "from matplotlib import pyplot as plt\n",
    "plt.style.use(plt.style.available[14])\n",
    "plt.scatter(X[:, 0], X[:, 1])"
   ]
  },
  {
   "cell_type": "code",
   "execution_count": 50,
   "metadata": {},
   "outputs": [
    {
     "data": {
      "text/plain": [
       "tensor(-2.0894)"
      ]
     },
     "execution_count": 50,
     "metadata": {},
     "output_type": "execute_result"
    }
   ],
   "source": [
    "f.log_prob(tr.Tensor([1,1]))"
   ]
  },
  {
   "cell_type": "code",
   "execution_count": 51,
   "metadata": {},
   "outputs": [],
   "source": [
    "def x_clf_loss(x1, x2, means1, means2, cov1, cov2):\n",
    "    f1 = tr.distributions.MultivariateNormal(means1, cov1)\n",
    "    f2 = tr.distributions.MultivariateNormal(means2, cov2)\n",
    "    \n",
    "    loss = (f1.log_prob(x1) - f2.log_prob(x1)).mean() + (f2.log_prob(x2) - f1.log_prob(x2)).mean()\n",
    "    \n",
    "    loss.backward()\n",
    "    \n",
    "    # complete the rest"
   ]
  },
  {
   "cell_type": "code",
   "execution_count": null,
   "metadata": {},
   "outputs": [],
   "source": []
  },
  {
   "cell_type": "code",
   "execution_count": 60,
   "metadata": {},
   "outputs": [],
   "source": [
    "from models import losses"
   ]
  },
  {
   "cell_type": "code",
   "execution_count": 94,
   "metadata": {},
   "outputs": [
    {
     "name": "stdout",
     "output_type": "stream",
     "text": [
      "torch.Size([100, 1]) torch.Size([100, 1])\n"
     ]
    }
   ],
   "source": [
    "logits = tr.rand(100, 1)\n",
    "labels = tr.zeros(100, 1)\n",
    "print logits.shape, labels.shape\n",
    "# losses.sigmoid_cross_entropy_loss(logits, labels)"
   ]
  },
  {
   "cell_type": "code",
   "execution_count": 22,
   "metadata": {},
   "outputs": [
    {
     "data": {
      "text/plain": [
       "tensor(0.5400)"
      ]
     },
     "execution_count": 22,
     "metadata": {},
     "output_type": "execute_result"
    }
   ],
   "source": [
    "(tr.rand(100) < 0.5).type(tr.FloatTensor).mean()"
   ]
  },
  {
   "cell_type": "code",
   "execution_count": 19,
   "metadata": {},
   "outputs": [
    {
     "data": {
      "text/plain": [
       "tensor(2.)"
      ]
     },
     "execution_count": 19,
     "metadata": {},
     "output_type": "execute_result"
    }
   ],
   "source": [
    "tr.Tensor([1,2, 3])"
   ]
  },
  {
   "cell_type": "code",
   "execution_count": null,
   "metadata": {},
   "outputs": [],
   "source": [
    "tr.FloatTensor"
   ]
  }
 ],
 "metadata": {
  "kernelspec": {
   "display_name": "Python 2",
   "language": "python",
   "name": "python2"
  },
  "language_info": {
   "codemirror_mode": {
    "name": "ipython",
    "version": 2
   },
   "file_extension": ".py",
   "mimetype": "text/x-python",
   "name": "python",
   "nbconvert_exporter": "python",
   "pygments_lexer": "ipython2",
   "version": "2.7.15rc1"
  }
 },
 "nbformat": 4,
 "nbformat_minor": 2
}
