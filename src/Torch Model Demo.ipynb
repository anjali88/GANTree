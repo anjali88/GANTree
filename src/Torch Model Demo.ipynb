{
 "cells": [
  {
   "cell_type": "code",
   "execution_count": 1,
   "metadata": {},
   "outputs": [],
   "source": [
    "%load_ext autoreload\n",
    "%autoreload 2"
   ]
  },
  {
   "cell_type": "code",
   "execution_count": 2,
   "metadata": {},
   "outputs": [],
   "source": [
    "import numpy\n",
    "import torch as tr\n",
    "from torch import nn\n",
    "from torch.nn.modules import loss as nn_loss\n",
    "from torch import optim\n",
    "from torch.nn import functional as F\n",
    "from torch.nn import init"
   ]
  },
  {
   "cell_type": "code",
   "execution_count": 3,
   "metadata": {},
   "outputs": [],
   "source": [
    "from hyperparams.toy import bcgan_2d\n",
    "from exp_context import ExperimentContext\n",
    "ExperimentContext.set_context(bcgan_2d)"
   ]
  },
  {
   "cell_type": "code",
   "execution_count": 7,
   "metadata": {},
   "outputs": [],
   "source": [
    "from models.toy.nets import ToyGAN\n",
    "from models.toy.gantree import GNode"
   ]
  },
  {
   "cell_type": "markdown",
   "metadata": {},
   "source": [
    "### Hyper parameters"
   ]
  },
  {
   "cell_type": "code",
   "execution_count": 5,
   "metadata": {},
   "outputs": [],
   "source": [
    "batch_size = 32\n",
    "n_batch_logits = 32"
   ]
  },
  {
   "cell_type": "markdown",
   "metadata": {},
   "source": [
    "### Model Definition"
   ]
  },
  {
   "cell_type": "code",
   "execution_count": 6,
   "metadata": {},
   "outputs": [],
   "source": [
    "gan = ToyGAN('gan')"
   ]
  },
  {
   "cell_type": "code",
   "execution_count": 8,
   "metadata": {},
   "outputs": [],
   "source": [
    "gnode = GNode()"
   ]
  },
  {
   "cell_type": "code",
   "execution_count": 9,
   "metadata": {},
   "outputs": [],
   "source": [
    "X = tr.randn(batch_size, 2)\n",
    "Z = tr.randn(batch_size, 2)"
   ]
  },
  {
   "cell_type": "markdown",
   "metadata": {},
   "source": [
    "### Training Algorithm"
   ]
  },
  {
   "cell_type": "code",
   "execution_count": 12,
   "metadata": {},
   "outputs": [
    {
     "name": "stdout",
     "output_type": "stream",
     "text": [
      "100 0.022528950125\n",
      "200 0.0121049201116\n",
      "300 0.0144558213651\n",
      "400 0.0117850713432\n",
      "500 0.00500185694546\n",
      "600 0.00571170542389\n",
      "700 0.00906531512737\n",
      "800 0.0635099485517\n",
      "900 0.00347738014534\n",
      "1000 0.00473131937906\n",
      "1100 0.00289601506665\n",
      "1200 0.00231382017955\n",
      "1300 0.00411276053637\n",
      "1400 0.00408509885892\n",
      "1500 0.00200822483748\n",
      "1600 0.00190681719687\n",
      "1700 0.00525244511664\n",
      "1800 0.00177952309605\n",
      "1900 0.00162602146156\n",
      "2000 0.001415098086\n"
     ]
    }
   ],
   "source": [
    "for i in range(2000):\n",
    "    loss = gan.step_train_generator(X, Z)\n",
    "    if i % 100 == 99:\n",
    "        print i+1, loss.item()\n",
    "#     if i % 500 == 0:\n",
    "#         th.save(encoder.state_dict(), 'encoder.pt')\n",
    "#         th.save(decoder.state_dict(), 'decoder.pt')\n",
    "\n",
    "#         print 'Iter', i + 1, 'Loss:', loss.item()"
   ]
  },
  {
   "cell_type": "code",
   "execution_count": 14,
   "metadata": {},
   "outputs": [
    {
     "data": {
      "text/plain": [
       "['encoder.0.weight',\n",
       " 'encoder.0.bias',\n",
       " 'encoder.2.weight',\n",
       " 'encoder.2.bias',\n",
       " 'encoder.4.weight',\n",
       " 'encoder.4.bias',\n",
       " 'encoder.6.weight',\n",
       " 'encoder.6.bias',\n",
       " 'encoder.8.weight',\n",
       " 'encoder.8.bias',\n",
       " 'encoder.10.weight',\n",
       " 'encoder.10.bias',\n",
       " 'decoder.0.weight',\n",
       " 'decoder.0.bias',\n",
       " 'decoder.2.weight',\n",
       " 'decoder.2.bias',\n",
       " 'decoder.4.weight',\n",
       " 'decoder.4.bias',\n",
       " 'decoder.6.weight',\n",
       " 'decoder.6.bias',\n",
       " 'decoder.8.weight',\n",
       " 'decoder.8.bias',\n",
       " 'decoder.10.weight',\n",
       " 'decoder.10.bias',\n",
       " 'disc.common_block.0.weight',\n",
       " 'disc.common_block.0.bias',\n",
       " 'disc.common_block.2.weight',\n",
       " 'disc.common_block.2.bias',\n",
       " 'disc.common_block.4.weight',\n",
       " 'disc.common_block.4.bias',\n",
       " 'disc.common_block.6.weight',\n",
       " 'disc.common_block.6.bias',\n",
       " 'disc.common_block.8.weight',\n",
       " 'disc.common_block.8.bias',\n",
       " 'disc.sample_logit_block.0.weight',\n",
       " 'disc.sample_logit_block.0.bias',\n",
       " 'disc.sample_logit_block.2.weight',\n",
       " 'disc.sample_logit_block.2.bias',\n",
       " 'disc.batch_logit_block.0.weight',\n",
       " 'disc.batch_logit_block.0.bias',\n",
       " 'disc.batch_logit_block.2.weight',\n",
       " 'disc.batch_logit_block.2.bias',\n",
       " 'disc.batch_logit_block.4.weight',\n",
       " 'disc.batch_logit_block.4.bias']"
      ]
     },
     "execution_count": 14,
     "metadata": {},
     "output_type": "execute_result"
    }
   ],
   "source": [
    "gan.state_dict().keys()"
   ]
  }
 ],
 "metadata": {
  "kernelspec": {
   "display_name": "Python 2",
   "language": "python",
   "name": "python2"
  },
  "language_info": {
   "codemirror_mode": {
    "name": "ipython",
    "version": 2
   },
   "file_extension": ".py",
   "mimetype": "text/x-python",
   "name": "python",
   "nbconvert_exporter": "python",
   "pygments_lexer": "ipython2",
   "version": "2.7.15rc1"
  }
 },
 "nbformat": 4,
 "nbformat_minor": 2
}
